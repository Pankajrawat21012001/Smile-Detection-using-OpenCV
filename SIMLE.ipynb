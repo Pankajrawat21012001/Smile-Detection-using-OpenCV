{
 "cells": [
  {
   "cell_type": "code",
   "execution_count": 2,
   "metadata": {},
   "outputs": [
    {
     "name": "stdout",
     "output_type": "stream",
     "text": [
      "RUNNED PROPERLY\n"
     ]
    }
   ],
   "source": [
    "import cv2\n",
    "\n",
    "face_algo=cv2.CascadeClassifier(\"haarcascade_frontalface_default.xml\")\n",
    "\n",
    "smile_algo=cv2.CascadeClassifier(\"haarcascade_smile.xml\")\n",
    "\n",
    "photo=cv2.imread(\"smile.jpg\")\n",
    "\n",
    "gray_img=cv2.cvtColor(photo,cv2.COLOR_BGR2GRAY)\n",
    "\n",
    "cv2.imshow(\"image\",gray_img)\n",
    "cv2.waitKey()\n",
    "print(\"RUNNED PROPERLY\")"
   ]
  },
  {
   "cell_type": "code",
   "execution_count": null,
   "metadata": {},
   "outputs": [],
   "source": []
  },
  {
   "cell_type": "code",
   "execution_count": 5,
   "metadata": {},
   "outputs": [
    {
     "name": "stdout",
     "output_type": "stream",
     "text": [
      "RUNNED PROPERLY\n"
     ]
    }
   ],
   "source": [
    "# ONLY FACE DETECTION ONLY ONE\n",
    "\n",
    "import cv2\n",
    "\n",
    "face_algo=cv2.CascadeClassifier(\"haarcascade_frontalface_default.xml\")\n",
    "\n",
    "smile_algo=cv2.CascadeClassifier(\"haarcascade_smile.xml\")\n",
    "\n",
    "photo=cv2.imread(\"smile.jpg\")\n",
    "\n",
    "gray_img=cv2.cvtColor(photo,cv2.COLOR_BGR2GRAY)\n",
    "\n",
    "face_coordinates=face_algo.detectMultiScale(gray_img)\n",
    "(a,b,c,d) = face_coordinates[0]\n",
    "cv2.rectangle(photo,(a,b),(a+c,b+d),(0,0,256),5)\n",
    "\n",
    "cv2.imshow(\"image\",photo)\n",
    "cv2.waitKey()\n",
    "\n",
    "cv2.destroyAllWindows()\n",
    "print(\"RUNNED PROPERLY\")"
   ]
  },
  {
   "cell_type": "code",
   "execution_count": null,
   "metadata": {},
   "outputs": [],
   "source": []
  },
  {
   "cell_type": "code",
   "execution_count": 9,
   "metadata": {},
   "outputs": [
    {
     "name": "stdout",
     "output_type": "stream",
     "text": [
      "RUNNED PROPERLY\n"
     ]
    }
   ],
   "source": [
    "#FOR MULTIPLE FACE DETECCTION\n",
    "\n",
    "import cv2\n",
    "\n",
    "face_algo=cv2.CascadeClassifier(\"haarcascade_frontalface_default.xml\")\n",
    "\n",
    "smile_algo=cv2.CascadeClassifier(\"haarcascade_smile.xml\")\n",
    "\n",
    "photo=cv2.imread(\"smile.jpg\")\n",
    "\n",
    "gray_img=cv2.cvtColor(photo,cv2.COLOR_BGR2GRAY)\n",
    "\n",
    "face_coordinates=face_algo.detectMultiScale(gray_img)\n",
    "for (a,b,c,d) in face_coordinates:\n",
    "    cv2.rectangle(photo,(a,b),(a+c,b+d),(0,0,256),2)\n",
    "\n",
    "cv2.imshow(\"image\",photo)\n",
    "cv2.waitKey()\n",
    "\n",
    "cv2.destroyAllWindows()\n",
    "print(\"RUNNED PROPERLY\")"
   ]
  },
  {
   "cell_type": "code",
   "execution_count": null,
   "metadata": {},
   "outputs": [],
   "source": []
  },
  {
   "cell_type": "code",
   "execution_count": 11,
   "metadata": {},
   "outputs": [
    {
     "name": "stdout",
     "output_type": "stream",
     "text": [
      "RUNNED PROPERLY\n"
     ]
    }
   ],
   "source": [
    "#FOR MULTIPLE SMILE DETECCTION\n",
    "\n",
    "import cv2\n",
    "\n",
    "face_algo=cv2.CascadeClassifier(\"haarcascade_frontalface_default.xml\")\n",
    "\n",
    "smile_algo=cv2.CascadeClassifier(\"haarcascade_smile.xml\")\n",
    "\n",
    "photo=cv2.imread(\"smile.jpg\")\n",
    "\n",
    "gray_img=cv2.cvtColor(photo,cv2.COLOR_BGR2GRAY)\n",
    "\n",
    "face_coordinates=smile_algo.detectMultiScale(gray_img)\n",
    "for (a,b,c,d) in face_coordinates:\n",
    "    cv2.rectangle(photo,(a,b),(a+c,b+d),(256,0,0),2)\n",
    "\n",
    "cv2.imshow(\"image\",photo)\n",
    "cv2.waitKey()\n",
    "\n",
    "cv2.destroyAllWindows()\n",
    "print(\"RUNNED PROPERLY\")"
   ]
  },
  {
   "cell_type": "code",
   "execution_count": null,
   "metadata": {},
   "outputs": [],
   "source": []
  },
  {
   "cell_type": "code",
   "execution_count": 13,
   "metadata": {},
   "outputs": [
    {
     "name": "stdout",
     "output_type": "stream",
     "text": [
      "RUNNED PROPERLY\n"
     ]
    }
   ],
   "source": [
    "#FOR MULTIPLE SMILE DETECCTION\n",
    "\n",
    "import cv2\n",
    "\n",
    "face_algo=cv2.CascadeClassifier(\"haarcascade_frontalface_default.xml\")\n",
    "\n",
    "smile_algo=cv2.CascadeClassifier(\"haarcascade_smile.xml\")\n",
    "\n",
    "photo=cv2.imread(\"smile2.jpg\")\n",
    "\n",
    "gray_img=cv2.cvtColor(photo,cv2.COLOR_BGR2GRAY)\n",
    "\n",
    "face_coordinates=smile_algo.detectMultiScale(gray_img)\n",
    "for (a,b,c,d) in face_coordinates:\n",
    "    cv2.rectangle(photo,(a,b),(a+c,b+d),(256,0,0),2)\n",
    "\n",
    "cv2.imshow(\"image\",photo)\n",
    "cv2.waitKey()\n",
    "\n",
    "cv2.destroyAllWindows()\n",
    "print(\"RUNNED PROPERLY\")"
   ]
  },
  {
   "cell_type": "code",
   "execution_count": null,
   "metadata": {},
   "outputs": [],
   "source": []
  },
  {
   "cell_type": "code",
   "execution_count": 15,
   "metadata": {},
   "outputs": [
    {
     "ename": "KeyboardInterrupt",
     "evalue": "",
     "output_type": "error",
     "traceback": [
      "\u001b[1;31m---------------------------------------------------------------------------\u001b[0m",
      "\u001b[1;31mKeyboardInterrupt\u001b[0m                         Traceback (most recent call last)",
      "\u001b[1;32m<ipython-input-15-e49397c4ca26>\u001b[0m in \u001b[0;36m<module>\u001b[1;34m\u001b[0m\n\u001b[0;32m     18\u001b[0m \u001b[1;33m\u001b[0m\u001b[0m\n\u001b[0;32m     19\u001b[0m     \u001b[0mcv2\u001b[0m\u001b[1;33m.\u001b[0m\u001b[0mimshow\u001b[0m\u001b[1;33m(\u001b[0m\u001b[1;34m\"image\"\u001b[0m\u001b[1;33m,\u001b[0m\u001b[0mframe\u001b[0m\u001b[1;33m)\u001b[0m\u001b[1;33m\u001b[0m\u001b[1;33m\u001b[0m\u001b[0m\n\u001b[1;32m---> 20\u001b[1;33m     \u001b[0mcv2\u001b[0m\u001b[1;33m.\u001b[0m\u001b[0mwaitKey\u001b[0m\u001b[1;33m(\u001b[0m\u001b[1;33m)\u001b[0m\u001b[1;33m\u001b[0m\u001b[1;33m\u001b[0m\u001b[0m\n\u001b[0m\u001b[0;32m     21\u001b[0m \u001b[0mwebcam\u001b[0m\u001b[1;33m.\u001b[0m\u001b[0mrelease\u001b[0m\u001b[1;33m(\u001b[0m\u001b[1;33m)\u001b[0m\u001b[1;33m\u001b[0m\u001b[1;33m\u001b[0m\u001b[0m\n\u001b[0;32m     22\u001b[0m \u001b[0mcv2\u001b[0m\u001b[1;33m.\u001b[0m\u001b[0mdestroyAllWindows\u001b[0m\u001b[1;33m(\u001b[0m\u001b[1;33m)\u001b[0m\u001b[1;33m\u001b[0m\u001b[1;33m\u001b[0m\u001b[0m\n",
      "\u001b[1;31mKeyboardInterrupt\u001b[0m: "
     ]
    }
   ],
   "source": [
    "# ONLY PUTTING FACE\n",
    "\n",
    "import cv2\n",
    "\n",
    "face_algo=cv2.CascadeClassifier(\"haarcascade_frontalface_default.xml\")\n",
    "\n",
    "smile_algo=cv2.CascadeClassifier(\"haarcascade_smile.xml\")\n",
    "\n",
    "webcam=cv2.VideoCapture(0)\n",
    "while True:\n",
    "    successful_frame,frame=webcam.read()\n",
    "\n",
    "    gray_img=cv2.cvtColor(frame,cv2.COLOR_BGR2GRAY)\n",
    "\n",
    "#     face_coordinates=smile_algo.detectMultiScale(gray_img)\n",
    "#     for (a,b,c,d) in face_coordinates:\n",
    "#         cv2.rectangle(photo,(a,b),(a+c,b+d),(256,0,0),2)\n",
    "\n",
    "    cv2.imshow(\"image\",frame)\n",
    "    cv2.waitKey()\n",
    "webcam.release()\n",
    "cv2.destroyAllWindows()\n",
    "print(\"RUNNED PROPERLY\")"
   ]
  },
  {
   "cell_type": "code",
   "execution_count": null,
   "metadata": {},
   "outputs": [],
   "source": []
  },
  {
   "cell_type": "code",
   "execution_count": 16,
   "metadata": {},
   "outputs": [
    {
     "ename": "KeyboardInterrupt",
     "evalue": "",
     "output_type": "error",
     "traceback": [
      "\u001b[1;31m---------------------------------------------------------------------------\u001b[0m",
      "\u001b[1;31mKeyboardInterrupt\u001b[0m                         Traceback (most recent call last)",
      "\u001b[1;32m<ipython-input-16-60dca29579aa>\u001b[0m in \u001b[0;36m<module>\u001b[1;34m\u001b[0m\n\u001b[0;32m      9\u001b[0m \u001b[0mwebcam\u001b[0m\u001b[1;33m=\u001b[0m\u001b[0mcv2\u001b[0m\u001b[1;33m.\u001b[0m\u001b[0mVideoCapture\u001b[0m\u001b[1;33m(\u001b[0m\u001b[1;36m0\u001b[0m\u001b[1;33m)\u001b[0m\u001b[1;33m\u001b[0m\u001b[1;33m\u001b[0m\u001b[0m\n\u001b[0;32m     10\u001b[0m \u001b[1;32mwhile\u001b[0m \u001b[1;32mTrue\u001b[0m\u001b[1;33m:\u001b[0m\u001b[1;33m\u001b[0m\u001b[1;33m\u001b[0m\u001b[0m\n\u001b[1;32m---> 11\u001b[1;33m     \u001b[0msuccessful_frame\u001b[0m\u001b[1;33m,\u001b[0m\u001b[0mframe\u001b[0m\u001b[1;33m=\u001b[0m\u001b[0mwebcam\u001b[0m\u001b[1;33m.\u001b[0m\u001b[0mread\u001b[0m\u001b[1;33m(\u001b[0m\u001b[1;33m)\u001b[0m\u001b[1;33m\u001b[0m\u001b[1;33m\u001b[0m\u001b[0m\n\u001b[0m\u001b[0;32m     12\u001b[0m \u001b[1;33m\u001b[0m\u001b[0m\n\u001b[0;32m     13\u001b[0m     \u001b[0mgray_img\u001b[0m\u001b[1;33m=\u001b[0m\u001b[0mcv2\u001b[0m\u001b[1;33m.\u001b[0m\u001b[0mcvtColor\u001b[0m\u001b[1;33m(\u001b[0m\u001b[0mframe\u001b[0m\u001b[1;33m,\u001b[0m\u001b[0mcv2\u001b[0m\u001b[1;33m.\u001b[0m\u001b[0mCOLOR_BGR2GRAY\u001b[0m\u001b[1;33m)\u001b[0m\u001b[1;33m\u001b[0m\u001b[1;33m\u001b[0m\u001b[0m\n",
      "\u001b[1;31mKeyboardInterrupt\u001b[0m: "
     ]
    }
   ],
   "source": [
    "# ONLY PUTTING VIDEO\n",
    "\n",
    "import cv2\n",
    "\n",
    "face_algo=cv2.CascadeClassifier(\"haarcascade_frontalface_default.xml\")\n",
    "\n",
    "smile_algo=cv2.CascadeClassifier(\"haarcascade_smile.xml\")\n",
    "\n",
    "webcam=cv2.VideoCapture(0)\n",
    "while True:\n",
    "    successful_frame,frame=webcam.read()\n",
    "\n",
    "    gray_img=cv2.cvtColor(frame,cv2.COLOR_BGR2GRAY)\n",
    "\n",
    "#     face_coordinates=smile_algo.detectMultiScale(gray_img)\n",
    "#     for (a,b,c,d) in face_coordinates:\n",
    "#         cv2.rectangle(photo,(a,b),(a+c,b+d),(256,0,0),2)\n",
    "\n",
    "    cv2.imshow(\"image\",frame)\n",
    "    key=cv2.waitKey(1)\n",
    "    \n",
    "    if key==113 or key==81:\n",
    "        break\n",
    "webcam.release()\n",
    "cv2.destroyAllWindows()\n",
    "print(\"RUNNED PROPERLY\")"
   ]
  },
  {
   "cell_type": "code",
   "execution_count": null,
   "metadata": {},
   "outputs": [],
   "source": []
  },
  {
   "cell_type": "code",
   "execution_count": 1,
   "metadata": {},
   "outputs": [
    {
     "name": "stdout",
     "output_type": "stream",
     "text": [
      "RUNNED PROPERLY\n"
     ]
    }
   ],
   "source": [
    "# ONLY PUTTING VIDEO\n",
    "\n",
    "import cv2\n",
    "\n",
    "face_algo=cv2.CascadeClassifier(\"haarcascade_frontalface_default.xml\")\n",
    "\n",
    "smile_algo=cv2.CascadeClassifier(\"haarcascade_smile.xml\")\n",
    "\n",
    "webcam=cv2.VideoCapture(0)\n",
    "while True:\n",
    "    successful_frame,frame=webcam.read()\n",
    "\n",
    "    gray_img=cv2.cvtColor(frame,cv2.COLOR_BGR2GRAY)\n",
    "\n",
    "#     face_coordinates=smile_algo.detectMultiScale(gray_img)\n",
    "#     for (a,b,c,d) in face_coordinates:\n",
    "#         cv2.rectangle(photo,(a,b),(a+c,b+d),(256,0,0),2)\n",
    "\n",
    "    cv2.imshow(\"image\",gray_img)\n",
    "    key=cv2.waitKey(1)\n",
    "    \n",
    "    if key==113 or key==81:\n",
    "        break\n",
    "webcam.release()\n",
    "cv2.destroyAllWindows()\n",
    "print(\"RUNNED PROPERLY\")"
   ]
  },
  {
   "cell_type": "code",
   "execution_count": null,
   "metadata": {},
   "outputs": [],
   "source": []
  },
  {
   "cell_type": "code",
   "execution_count": 2,
   "metadata": {},
   "outputs": [
    {
     "ename": "error",
     "evalue": "OpenCV(4.5.3) C:\\Users\\runneradmin\\AppData\\Local\\Temp\\pip-req-build-q3d_8t8e\\opencv\\modules\\imgproc\\src\\color.cpp:182: error: (-215:Assertion failed) !_src.empty() in function 'cv::cvtColor'\n",
     "output_type": "error",
     "traceback": [
      "\u001b[1;31m---------------------------------------------------------------------------\u001b[0m",
      "\u001b[1;31merror\u001b[0m                                     Traceback (most recent call last)",
      "\u001b[1;32m<ipython-input-2-63a08b152481>\u001b[0m in \u001b[0;36m<module>\u001b[1;34m\u001b[0m\n\u001b[0;32m     11\u001b[0m     \u001b[0msuccessful_frame\u001b[0m\u001b[1;33m,\u001b[0m\u001b[0mframe\u001b[0m\u001b[1;33m=\u001b[0m\u001b[0mwebcam\u001b[0m\u001b[1;33m.\u001b[0m\u001b[0mread\u001b[0m\u001b[1;33m(\u001b[0m\u001b[1;33m)\u001b[0m\u001b[1;33m\u001b[0m\u001b[1;33m\u001b[0m\u001b[0m\n\u001b[0;32m     12\u001b[0m \u001b[1;33m\u001b[0m\u001b[0m\n\u001b[1;32m---> 13\u001b[1;33m     \u001b[0mgray_img\u001b[0m\u001b[1;33m=\u001b[0m\u001b[0mcv2\u001b[0m\u001b[1;33m.\u001b[0m\u001b[0mcvtColor\u001b[0m\u001b[1;33m(\u001b[0m\u001b[0mframe\u001b[0m\u001b[1;33m,\u001b[0m\u001b[0mcv2\u001b[0m\u001b[1;33m.\u001b[0m\u001b[0mCOLOR_BGR2GRAY\u001b[0m\u001b[1;33m)\u001b[0m\u001b[1;33m\u001b[0m\u001b[1;33m\u001b[0m\u001b[0m\n\u001b[0m\u001b[0;32m     14\u001b[0m \u001b[1;33m\u001b[0m\u001b[0m\n\u001b[0;32m     15\u001b[0m \u001b[1;31m#     face_coordinates=smile_algo.detectMultiScale(gray_img)\u001b[0m\u001b[1;33m\u001b[0m\u001b[1;33m\u001b[0m\u001b[1;33m\u001b[0m\u001b[0m\n",
      "\u001b[1;31merror\u001b[0m: OpenCV(4.5.3) C:\\Users\\runneradmin\\AppData\\Local\\Temp\\pip-req-build-q3d_8t8e\\opencv\\modules\\imgproc\\src\\color.cpp:182: error: (-215:Assertion failed) !_src.empty() in function 'cv::cvtColor'\n"
     ]
    }
   ],
   "source": [
    "# ONLY PUTTING VIDEO\n",
    "\n",
    "import cv2\n",
    "\n",
    "face_algo=cv2.CascadeClassifier(\"haarcascade_frontalface_default.xml\")\n",
    "\n",
    "smile_algo=cv2.CascadeClassifier(\"haarcascade_smile.xml\")\n",
    "\n",
    "webcam=cv2.VideoCapture(\"smile video.webm\")\n",
    "while True:\n",
    "    successful_frame,frame=webcam.read()\n",
    "\n",
    "    gray_img=cv2.cvtColor(frame,cv2.COLOR_BGR2GRAY)\n",
    "\n",
    "#     face_coordinates=smile_algo.detectMultiScale(gray_img)\n",
    "#     for (a,b,c,d) in face_coordinates:\n",
    "#         cv2.rectangle(photo,(a,b),(a+c,b+d),(256,0,0),2)\n",
    "\n",
    "    cv2.imshow(\"image\",gray_img)\n",
    "    key=cv2.waitKey(1)\n",
    "    \n",
    "    if key==113 or key==81:\n",
    "        break\n",
    "webcam.release()\n",
    "cv2.destroyAllWindows()\n",
    "print(\"RUNNED PROPERLY\")"
   ]
  },
  {
   "cell_type": "code",
   "execution_count": null,
   "metadata": {},
   "outputs": [],
   "source": []
  },
  {
   "cell_type": "code",
   "execution_count": 1,
   "metadata": {},
   "outputs": [
    {
     "name": "stdout",
     "output_type": "stream",
     "text": [
      "RUNNED PROPERLY\n"
     ]
    }
   ],
   "source": [
    "# ONLY PUTTING VIDEO WITH FACE DETECTION\n",
    "\n",
    "import cv2\n",
    "\n",
    "face_algo=cv2.CascadeClassifier(\"haarcascade_frontalface_default.xml\")\n",
    "\n",
    "smile_algo=cv2.CascadeClassifier(\"haarcascade_smile.xml\")\n",
    "\n",
    "# webcam=cv2.VideoCapture(\"smile video.webm\")\n",
    "webcam=cv2.VideoCapture(0)\n",
    "while True:\n",
    "    successful_frame,frame=webcam.read()\n",
    "\n",
    "    gray_img=cv2.cvtColor(frame,cv2.COLOR_BGR2GRAY)\n",
    "\n",
    "    face_coordinates=face_algo.detectMultiScale(gray_img)\n",
    "#     smile_coordinates=smile_algo.detectMultiScale(gray_img)\n",
    "    for (a,b,c,d) in face_coordinates:\n",
    "        cv2.rectangle(gray_img,(a,b),(a+c,b+d),(256,0,0),2)\n",
    "\n",
    "    cv2.imshow(\"image\",gray_img)\n",
    "    key=cv2.waitKey(1)\n",
    "    \n",
    "    if key==113 or key==81:\n",
    "        break\n",
    "webcam.release()\n",
    "cv2.destroyAllWindows()\n",
    "print(\"RUNNED PROPERLY\")"
   ]
  },
  {
   "cell_type": "code",
   "execution_count": null,
   "metadata": {},
   "outputs": [],
   "source": []
  },
  {
   "cell_type": "code",
   "execution_count": null,
   "metadata": {},
   "outputs": [],
   "source": []
  },
  {
   "cell_type": "code",
   "execution_count": 12,
   "metadata": {},
   "outputs": [
    {
     "name": "stdout",
     "output_type": "stream",
     "text": [
      "RUNNED PROPERLY\n"
     ]
    }
   ],
   "source": [
    "# ONLY PUTTING VIDEO WITH SMILE DETECTION\n",
    "\n",
    "import cv2\n",
    "\n",
    "face_algo=cv2.CascadeClassifier(\"haarcascade_frontalface_default.xml\")\n",
    "\n",
    "smile_algo=cv2.CascadeClassifier(\"haarcascade_smile.xml\")\n",
    "\n",
    "webcam=cv2.VideoCapture(0)\n",
    "while True:\n",
    "    successful_frame,frame=webcam.read()\n",
    "\n",
    "    gray_img=cv2.cvtColor(frame,cv2.COLOR_BGR2GRAY)\n",
    "\n",
    "    smile_coordinates=smile_algo.detectMultiScale(gray_img,scaleFactor=1.7,minNeighbors=20)\n",
    "    \n",
    "    for (a,b,c,d) in smile_coordinates:\n",
    "        cv2.rectangle(frame,(a,b),(a+c,b+d),(256,0,0),2)\n",
    "\n",
    "        \n",
    "    cv2.imshow(\"image\",frame)\n",
    "    key=cv2.waitKey(1)\n",
    "    \n",
    "    if key==113 or key==81:\n",
    "        break\n",
    "webcam.release()\n",
    "cv2.destroyAllWindows()\n",
    "print(\"RUNNED PROPERLY\")"
   ]
  },
  {
   "cell_type": "code",
   "execution_count": null,
   "metadata": {},
   "outputs": [],
   "source": []
  },
  {
   "cell_type": "code",
   "execution_count": 13,
   "metadata": {},
   "outputs": [
    {
     "ename": "error",
     "evalue": "OpenCV(4.5.3) :-1: error: (-5:Bad argument) in function 'circle'\n> Overload resolution failed:\n>  - Can't parse 'center'. Input argument doesn't provide sequence protocol\n>  - Can't parse 'center'. Input argument doesn't provide sequence protocol\n",
     "output_type": "error",
     "traceback": [
      "\u001b[1;31m---------------------------------------------------------------------------\u001b[0m",
      "\u001b[1;31merror\u001b[0m                                     Traceback (most recent call last)",
      "\u001b[1;32m<ipython-input-13-cdfac1046277>\u001b[0m in \u001b[0;36m<module>\u001b[1;34m\u001b[0m\n\u001b[0;32m     16\u001b[0m \u001b[1;33m\u001b[0m\u001b[0m\n\u001b[0;32m     17\u001b[0m     \u001b[1;32mfor\u001b[0m \u001b[1;33m(\u001b[0m\u001b[0ma\u001b[0m\u001b[1;33m,\u001b[0m\u001b[0mb\u001b[0m\u001b[1;33m,\u001b[0m\u001b[0mc\u001b[0m\u001b[1;33m,\u001b[0m\u001b[0md\u001b[0m\u001b[1;33m)\u001b[0m \u001b[1;32min\u001b[0m \u001b[0msmile_coordinates\u001b[0m\u001b[1;33m:\u001b[0m\u001b[1;33m\u001b[0m\u001b[1;33m\u001b[0m\u001b[0m\n\u001b[1;32m---> 18\u001b[1;33m         \u001b[0mcv2\u001b[0m\u001b[1;33m.\u001b[0m\u001b[0mcircle\u001b[0m\u001b[1;33m(\u001b[0m\u001b[0mframe\u001b[0m\u001b[1;33m,\u001b[0m\u001b[1;36m100\u001b[0m\u001b[1;33m,\u001b[0m\u001b[1;36m100\u001b[0m\u001b[1;33m,\u001b[0m\u001b[1;33m(\u001b[0m\u001b[1;36m256\u001b[0m\u001b[1;33m,\u001b[0m\u001b[1;36m0\u001b[0m\u001b[1;33m,\u001b[0m\u001b[1;36m0\u001b[0m\u001b[1;33m)\u001b[0m\u001b[1;33m,\u001b[0m\u001b[1;36m2\u001b[0m\u001b[1;33m)\u001b[0m\u001b[1;33m\u001b[0m\u001b[1;33m\u001b[0m\u001b[0m\n\u001b[0m\u001b[0;32m     19\u001b[0m \u001b[1;33m\u001b[0m\u001b[0m\n\u001b[0;32m     20\u001b[0m \u001b[1;33m\u001b[0m\u001b[0m\n",
      "\u001b[1;31merror\u001b[0m: OpenCV(4.5.3) :-1: error: (-5:Bad argument) in function 'circle'\n> Overload resolution failed:\n>  - Can't parse 'center'. Input argument doesn't provide sequence protocol\n>  - Can't parse 'center'. Input argument doesn't provide sequence protocol\n"
     ]
    }
   ],
   "source": [
    "# ONLY PUTTING VIDEO WITH SMILE DETECTION WITH CIRCLE\n",
    "\n",
    "# import cv2\n",
    "\n",
    "# face_algo=cv2.CascadeClassifier(\"haarcascade_frontalface_default.xml\")\n",
    "\n",
    "# smile_algo=cv2.CascadeClassifier(\"haarcascade_smile.xml\")\n",
    "\n",
    "# webcam=cv2.VideoCapture(0)\n",
    "# while True:\n",
    "#     successful_frame,frame=webcam.read()\n",
    "\n",
    "#     gray_img=cv2.cvtColor(frame,cv2.COLOR_BGR2GRAY)\n",
    "\n",
    "#     smile_coordinates=smile_algo.detectMultiScale(gray_img,scaleFactor=1.7,minNeighbors=20)\n",
    "    \n",
    "#     for (a,b,c,d) in smile_coordinates:\n",
    "#         cv2.circle(frame,)\n",
    "\n",
    "        \n",
    "#     cv2.imshow(\"image\",frame)\n",
    "#     key=cv2.waitKey(1)\n",
    "    \n",
    "#     if key==113 or key==81:\n",
    "#         break\n",
    "# webcam.release()\n",
    "# cv2.destroyAllWindows()\n",
    "# print(\"RUNNED PROPERLY\")"
   ]
  },
  {
   "cell_type": "code",
   "execution_count": 1,
   "metadata": {},
   "outputs": [],
   "source": [
    "import cv2"
   ]
  },
  {
   "cell_type": "code",
   "execution_count": 6,
   "metadata": {},
   "outputs": [
    {
     "name": "stdout",
     "output_type": "stream",
     "text": [
      "RUNNED PROPERLY\n"
     ]
    }
   ],
   "source": [
    "## ONLY PUTTING VIDEO WITH SMILE AND FACE DETECTION\n",
    "\n",
    "import cv2\n",
    "\n",
    "face_algo=cv2.CascadeClassifier(\"haarcascade_frontalface_default.xml\")\n",
    "\n",
    "smile_algo=cv2.CascadeClassifier(\"haarcascade_smile.xml\")\n",
    "\n",
    "# webcam=cv2.VideoCapture(\"smile video.webm\")\n",
    "webcam=cv2.VideoCapture(0)\n",
    "while True:\n",
    "    successful_frame,frame=webcam.read()\n",
    "\n",
    "    gray_img=cv2.cvtColor(frame,cv2.COLOR_BGR2GRAY)\n",
    "\n",
    "    face_coordinates=face_algo.detectMultiScale(gray_img)\n",
    "    smile_coordinates=smile_algo.detectMultiScale(gray_img,scaleFactor=1.7,minNeighbors=20)\n",
    "    \n",
    "    \n",
    "    for (a,b,c,d) in face_coordinates:\n",
    "        cv2.rectangle(frame,(a,b),(a+c,b+d),(256,0,0),2)\n",
    "    for (a,b,c,d) in smile_coordinates:\n",
    "        cv2.rectangle(frame,(a,b),(a+c,b+d),(0,256,0),2)\n",
    "#     for (a,b,c,d) in smile_coordinates:\n",
    "#         cv2.circle(gray_img,a,b,(0,256,0),2)\n",
    "\n",
    "        \n",
    "    cv2.imshow(\"image\",frame)\n",
    "    key=cv2.waitKey(1)\n",
    "    \n",
    "    if key==113 or key==81:\n",
    "        break\n",
    "webcam.release()\n",
    "cv2.destroyAllWindows()\n",
    "print(\"RUNNED PROPERLY\")"
   ]
  },
  {
   "cell_type": "code",
   "execution_count": null,
   "metadata": {},
   "outputs": [],
   "source": []
  },
  {
   "cell_type": "code",
   "execution_count": null,
   "metadata": {},
   "outputs": [],
   "source": []
  },
  {
   "cell_type": "code",
   "execution_count": 10,
   "metadata": {},
   "outputs": [
    {
     "name": "stdout",
     "output_type": "stream",
     "text": [
      "RUNNED PROPERLY\n"
     ]
    }
   ],
   "source": [
    "## ONLY PUTTING VIDEO WITH FACE DETECTION AND FINDING SMILE INSIDE FACE\n",
    "\n",
    "import cv2\n",
    "\n",
    "face_algo=cv2.CascadeClassifier(\"haarcascade_frontalface_default.xml\")\n",
    "\n",
    "smile_algo=cv2.CascadeClassifier(\"haarcascade_smile.xml\")\n",
    "\n",
    "# webcam=cv2.VideoCapture(\"smile video.webm\")\n",
    "webcam=cv2.VideoCapture(0)\n",
    "while True:\n",
    "    successful_frame,frame=webcam.read()\n",
    "\n",
    "    gray_img=cv2.cvtColor(frame,cv2.COLOR_BGR2GRAY)\n",
    "\n",
    "    face_coordinates=face_algo.detectMultiScale(gray_img)\n",
    "    \n",
    "    \n",
    "    \n",
    "    for (a,b,c,d) in face_coordinates:\n",
    "        cv2.rectangle(frame,(a,b),(a+c,b+d),(256,0,0),2)\n",
    "        \n",
    "        the_face=frame[b:b+d,a:a+c]\n",
    "        \n",
    "        face_grayscale=cv2.cvtColor(the_face,cv2.COLOR_BGR2GRAY)\n",
    "        \n",
    "        smile_coordinates=smile_algo.detectMultiScale(face_grayscale,\n",
    "                                                      scaleFactor=1.7,minNeighbors=20)\n",
    "        \n",
    "        for (a_,b_,c_,d_) in smile_coordinates:\n",
    "            cv2.rectangle(the_face,(a_,b_),(a_+c_,b_+d_),(0,256,0),2)\n",
    "\n",
    "        \n",
    "    cv2.imshow(\"image\",frame)\n",
    "    key=cv2.waitKey(1)\n",
    "    \n",
    "    if key==113 or key==81:\n",
    "        break\n",
    "webcam.release()\n",
    "cv2.destroyAllWindows()\n",
    "print(\"RUNNED PROPERLY\")"
   ]
  },
  {
   "cell_type": "code",
   "execution_count": null,
   "metadata": {},
   "outputs": [],
   "source": []
  },
  {
   "cell_type": "code",
   "execution_count": null,
   "metadata": {},
   "outputs": [],
   "source": []
  },
  {
   "cell_type": "code",
   "execution_count": 2,
   "metadata": {},
   "outputs": [
    {
     "ename": "error",
     "evalue": "OpenCV(4.5.3) C:\\Users\\runneradmin\\AppData\\Local\\Temp\\pip-req-build-q3d_8t8e\\opencv\\modules\\imgproc\\src\\color.cpp:182: error: (-215:Assertion failed) !_src.empty() in function 'cv::cvtColor'\n",
     "output_type": "error",
     "traceback": [
      "\u001b[1;31m---------------------------------------------------------------------------\u001b[0m",
      "\u001b[1;31merror\u001b[0m                                     Traceback (most recent call last)",
      "\u001b[1;32m<ipython-input-2-36bdc2b77f18>\u001b[0m in \u001b[0;36m<module>\u001b[1;34m\u001b[0m\n\u001b[0;32m     12\u001b[0m     \u001b[0msuccessful_frame\u001b[0m\u001b[1;33m,\u001b[0m\u001b[0mframe\u001b[0m\u001b[1;33m=\u001b[0m\u001b[0mwebcam\u001b[0m\u001b[1;33m.\u001b[0m\u001b[0mread\u001b[0m\u001b[1;33m(\u001b[0m\u001b[1;33m)\u001b[0m\u001b[1;33m\u001b[0m\u001b[1;33m\u001b[0m\u001b[0m\n\u001b[0;32m     13\u001b[0m \u001b[1;33m\u001b[0m\u001b[0m\n\u001b[1;32m---> 14\u001b[1;33m     \u001b[0mgray_img\u001b[0m\u001b[1;33m=\u001b[0m\u001b[0mcv2\u001b[0m\u001b[1;33m.\u001b[0m\u001b[0mcvtColor\u001b[0m\u001b[1;33m(\u001b[0m\u001b[0mframe\u001b[0m\u001b[1;33m,\u001b[0m\u001b[0mcv2\u001b[0m\u001b[1;33m.\u001b[0m\u001b[0mCOLOR_BGR2GRAY\u001b[0m\u001b[1;33m)\u001b[0m\u001b[1;33m\u001b[0m\u001b[1;33m\u001b[0m\u001b[0m\n\u001b[0m\u001b[0;32m     15\u001b[0m \u001b[1;33m\u001b[0m\u001b[0m\n\u001b[0;32m     16\u001b[0m     \u001b[0mface_coordinates\u001b[0m\u001b[1;33m=\u001b[0m\u001b[0mface_algo\u001b[0m\u001b[1;33m.\u001b[0m\u001b[0mdetectMultiScale\u001b[0m\u001b[1;33m(\u001b[0m\u001b[0mgray_img\u001b[0m\u001b[1;33m)\u001b[0m\u001b[1;33m\u001b[0m\u001b[1;33m\u001b[0m\u001b[0m\n",
      "\u001b[1;31merror\u001b[0m: OpenCV(4.5.3) C:\\Users\\runneradmin\\AppData\\Local\\Temp\\pip-req-build-q3d_8t8e\\opencv\\modules\\imgproc\\src\\color.cpp:182: error: (-215:Assertion failed) !_src.empty() in function 'cv::cvtColor'\n"
     ]
    }
   ],
   "source": [
    "## ONLY PUTTING cam WITH FACE DETECTION AND FINDING SMILE INSIDE FACE WITH SMILING PRINTING\n",
    "\n",
    "import cv2\n",
    "\n",
    "face_algo=cv2.CascadeClassifier(\"haarcascade_frontalface_default.xml\")\n",
    "\n",
    "smile_algo=cv2.CascadeClassifier(\"haarcascade_smile.xml\")\n",
    "\n",
    "webcam=cv2.VideoCapture(\"smile video.webm\")\n",
    "# webcam=cv2.VideoCapture(0)\n",
    "while True:\n",
    "    successful_frame,frame=webcam.read()\n",
    "\n",
    "    gray_img=cv2.cvtColor(frame,cv2.COLOR_BGR2GRAY)\n",
    "\n",
    "    face_coordinates=face_algo.detectMultiScale(gray_img)\n",
    "    \n",
    "    \n",
    "    \n",
    "    for (a,b,c,d) in face_coordinates:\n",
    "        cv2.rectangle(frame,(a,b),(a+c,b+d),(256,0,0),2)\n",
    "        \n",
    "        the_face=frame[b:b+d,a:a+c]\n",
    "        \n",
    "        face_grayscale=cv2.cvtColor(the_face,cv2.COLOR_BGR2GRAY)\n",
    "        \n",
    "        smile_coordinates=smile_algo.detectMultiScale(face_grayscale,\n",
    "                                                      scaleFactor=1.7,minNeighbors=20)\n",
    "        \n",
    "        if len(smile_coordinates)>0:\n",
    "            cv2.putText(frame,\"Smiling\",(a,b+d+40),fontScale=3,fontFace=cv2.FONT_HERSHEY_PLAIN,\n",
    "                       color=(0,256,256))\n",
    "\n",
    "        \n",
    "    cv2.imshow(\"image\",frame)\n",
    "    key=cv2.waitKey(1)\n",
    "    \n",
    "    if key==113 or key==81:\n",
    "        break\n",
    "webcam.release()\n",
    "cv2.destroyAllWindows()\n",
    "print(\"RUNNED PROPERLY\")"
   ]
  },
  {
   "cell_type": "code",
   "execution_count": 1,
   "metadata": {},
   "outputs": [
    {
     "name": "stdout",
     "output_type": "stream",
     "text": [
      "RUNNED PROPERLY\n"
     ]
    }
   ],
   "source": [
    "## ONLY PUTTING VIDEO WITH FACE DETECTION AND FINDING SMILE INSIDE FACE WITH SMILING PRINTING\n",
    "\n",
    "import cv2\n",
    "\n",
    "face_algo=cv2.CascadeClassifier(\"haarcascade_frontalface_default.xml\")\n",
    "\n",
    "smile_algo=cv2.CascadeClassifier(\"haarcascade_smile.xml\")\n",
    "\n",
    "# webcam=cv2.VideoCapture(\"smile video.webm\")\n",
    "webcam=cv2.VideoCapture(0)\n",
    "while True:\n",
    "    successful_frame,frame=webcam.read()\n",
    "\n",
    "    gray_img=cv2.cvtColor(frame,cv2.COLOR_BGR2GRAY)\n",
    "\n",
    "    face_coordinates=face_algo.detectMultiScale(gray_img)\n",
    "    \n",
    "    \n",
    "    \n",
    "    for (a,b,c,d) in face_coordinates:\n",
    "        cv2.rectangle(frame,(a,b),(a+c,b+d),(256,0,0),2)\n",
    "        \n",
    "        the_face=frame[b:b+d,a:a+c]\n",
    "        \n",
    "        face_grayscale=cv2.cvtColor(the_face,cv2.COLOR_BGR2GRAY)\n",
    "        \n",
    "        smile_coordinates=smile_algo.detectMultiScale(face_grayscale,\n",
    "                                                      scaleFactor=1.7,minNeighbors=20)\n",
    "        \n",
    "        if len(smile_coordinates)>0:\n",
    "            cv2.putText(frame,\"Smiling\",(a,b+d+40),fontScale=3,fontFace=cv2.FONT_HERSHEY_PLAIN,\n",
    "                       color=(0,256,256))\n",
    "\n",
    "        \n",
    "    cv2.imshow(\"image\",frame)\n",
    "    key=cv2.waitKey(1)\n",
    "    \n",
    "    if key==113 or key==81:\n",
    "        break\n",
    "webcam.release()\n",
    "cv2.destroyAllWindows()\n",
    "print(\"RUNNED PROPERLY\")"
   ]
  },
  {
   "cell_type": "code",
   "execution_count": null,
   "metadata": {},
   "outputs": [],
   "source": []
  }
 ],
 "metadata": {
  "kernelspec": {
   "display_name": "Python 3",
   "language": "python",
   "name": "python3"
  },
  "language_info": {
   "codemirror_mode": {
    "name": "ipython",
    "version": 3
   },
   "file_extension": ".py",
   "mimetype": "text/x-python",
   "name": "python",
   "nbconvert_exporter": "python",
   "pygments_lexer": "ipython3",
   "version": "3.8.5"
  }
 },
 "nbformat": 4,
 "nbformat_minor": 4
}
